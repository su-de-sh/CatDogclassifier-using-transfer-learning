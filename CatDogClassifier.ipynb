{
 "cells": [
  {
   "cell_type": "code",
   "execution_count": 10,
   "metadata": {},
   "outputs": [],
   "source": [
    "import cv2\n",
    "import matplotlib.pyplot as plt\n",
    "from keras.applications import VGG16\n",
    "from keras.applications import imagenet_utils\n",
    "from keras.preprocessing.image import img_to_array\n",
    "from keras.preprocessing.image import load_img\n",
    "from imutils import paths\n",
    "from keras.models import load_model\n",
    "import numpy as np"
   ]
  },
  {
   "cell_type": "code",
   "execution_count": 7,
   "metadata": {},
   "outputs": [
    {
     "name": "stdout",
     "output_type": "stream",
     "text": [
      "[INFO] loading pre-trained network...\n"
     ]
    }
   ],
   "source": [
    "print(\"[INFO] loading pre-trained network...\")\n",
    "model = load_model('catdogclassfyingmodel.hdf5')"
   ]
  },
  {
   "cell_type": "code",
   "execution_count": 8,
   "metadata": {},
   "outputs": [
    {
     "name": "stdout",
     "output_type": "stream",
     "text": [
      "[INFO] loading network...\n"
     ]
    }
   ],
   "source": [
    "\n",
    "print(\"[INFO] loading network...\")\n",
    "Base_model = VGG16(weights=\"imagenet\", include_top=False,input_shape=(224,224,3))"
   ]
  },
  {
   "cell_type": "code",
   "execution_count": null,
   "metadata": {},
   "outputs": [],
   "source": [
    "batchImages = []\n",
    "imagePaths = list(paths.list_images('train/'))[10:25]\n",
    "for image in imagePaths:\n",
    "    img=load_img(image ,target_size=(224, 224,3))\n",
    "    img=img_to_array(img)\n",
    "    img=np.expand_dims(img,axis=0)\n",
    "    img=imagenet_utils.preprocess_input(img)\n",
    "    batchImages.append(img)\n",
    "batchImages=np.vstack(batchImages)\n",
    "    \n",
    "features=Base_model.predict(batchImages)\n",
    "features=features.reshape(features.shape[0],7*7*512)"
   ]
  },
  {
   "cell_type": "code",
   "execution_count": null,
   "metadata": {},
   "outputs": [],
   "source": [
    "prediction=model.predict(features.reshape(-1,7,7,512)).argmax(axis=1)"
   ]
  },
  {
   "cell_type": "code",
   "execution_count": null,
   "metadata": {},
   "outputs": [],
   "source": [
    "\n",
    "classLabels=[\"cat\",\"dog\"]\n",
    "fig=plt.figure(figsize=(50, 50))\n",
    "columns = 3\n",
    "rows = 5\n",
    "for (i, imagePath) in enumerate(imagePaths):\n",
    "    # load the example image, draw the prediction, and display it\n",
    "    # to our screen\n",
    "    image = cv2.imread(imagePath)\n",
    "    image= cv2.cvtColor(image,cv2.COLOR_BGR2RGB)\n",
    "    cv2.putText(image, \"Label: {}\".format(classLabels[prediction[i]]),\n",
    "    (10, 30), cv2.FONT_HERSHEY_SIMPLEX, 0.7, (0, 255, 0), 2)\n",
    "    fig.add_subplot(rows, columns,i+1)\n",
    "    plt.imshow( image)\n",
    "plt.show()\n",
    "    #cv2.imwrite(\"{}.jpg\".format(str(i)),image)"
   ]
  }
 ],
 "metadata": {
  "kernelspec": {
   "display_name": "Python 3",
   "language": "python",
   "name": "python3"
  },
  "language_info": {
   "codemirror_mode": {
    "name": "ipython",
    "version": 3
   },
   "file_extension": ".py",
   "mimetype": "text/x-python",
   "name": "python",
   "nbconvert_exporter": "python",
   "pygments_lexer": "ipython3",
   "version": "3.6.9"
  }
 },
 "nbformat": 4,
 "nbformat_minor": 2
}
